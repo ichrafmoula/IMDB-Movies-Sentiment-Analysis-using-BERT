{
  "nbformat": 4,
  "nbformat_minor": 0,
  "metadata": {
    "colab": {
      "name": "Untitled",
      "provenance": [],
      "private_outputs": true,
      "collapsed_sections": [],
      "authorship_tag": "ABX9TyMTR1KfFbgjBf4liSuoqZi2",
      "include_colab_link": true
    },
    "kernelspec": {
      "name": "python3",
      "display_name": "Python 3"
    },
    "accelerator": "GPU"
  },
  "cells": [
    {
      "cell_type": "markdown",
      "metadata": {
        "id": "view-in-github",
        "colab_type": "text"
      },
      "source": [
        "<a href=\"https://colab.research.google.com/github/ichrafmoula/Sentiment-Analysis-using-BERT/blob/master/IMDB_Movies_Sentiment_Analysis_using_BERT_.ipynb\" target=\"_parent\"><img src=\"https://colab.research.google.com/assets/colab-badge.svg\" alt=\"Open In Colab\"/></a>"
      ]
    },
    {
      "cell_type": "code",
      "metadata": {
        "id": "sCYy-FA4-aEw",
        "colab_type": "code",
        "colab": {}
      },
      "source": [
        "!pip install ktrain"
      ],
      "execution_count": null,
      "outputs": []
    },
    {
      "cell_type": "code",
      "metadata": {
        "id": "BSlftqaWjWnh",
        "colab_type": "code",
        "colab": {}
      },
      "source": [
        "import numpy as np \n",
        "import pandas as pd\n",
        "import tensorflow as tf\n",
        "import ktrain \n",
        "from ktrain import text"
      ],
      "execution_count": null,
      "outputs": []
    },
    {
      "cell_type": "code",
      "metadata": {
        "id": "Dm3MpKHwuIax",
        "colab_type": "code",
        "colab": {}
      },
      "source": [
        "!git clone https://github.com/laxmimerit/IMDB-Movie-Reviews-Large-Dataset-50k.git"
      ],
      "execution_count": null,
      "outputs": []
    },
    {
      "cell_type": "code",
      "metadata": {
        "id": "0m7bwZXQmg-S",
        "colab_type": "code",
        "colab": {}
      },
      "source": [
        "data_train =pd.read_excel('/content/IMDB-Movie-Reviews-Large-Dataset-50k/train.xlsx')\n",
        "data_train"
      ],
      "execution_count": null,
      "outputs": []
    },
    {
      "cell_type": "code",
      "metadata": {
        "id": "stwG2Akbnmwr",
        "colab_type": "code",
        "colab": {}
      },
      "source": [
        "data_test =pd.read_excel('/content/IMDB-Movie-Reviews-Large-Dataset-50k/test.xlsx')\n",
        "data_test"
      ],
      "execution_count": null,
      "outputs": []
    }
  ]
}