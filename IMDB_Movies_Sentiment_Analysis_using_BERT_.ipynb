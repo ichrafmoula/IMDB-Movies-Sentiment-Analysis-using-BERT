{
  "nbformat": 4,
  "nbformat_minor": 0,
  "metadata": {
    "colab": {
      "name": " IMDB Movies Sentiment Analysis using BERT .ipynb",
      "provenance": [],
      "authorship_tag": "ABX9TyN9T6ahbh7TXaKfkCNJqPK0",
      "include_colab_link": true
    },
    "kernelspec": {
      "name": "python3",
      "display_name": "Python 3"
    }
  },
  "cells": [
    {
      "cell_type": "markdown",
      "metadata": {
        "id": "view-in-github",
        "colab_type": "text"
      },
      "source": [
        "<a href=\"https://colab.research.google.com/github/ichrafmoula/Sentiment-Analysis-using-BERT/blob/master/IMDB_Movies_Sentiment_Analysis_using_BERT_.ipynb\" target=\"_parent\"><img src=\"https://colab.research.google.com/assets/colab-badge.svg\" alt=\"Open In Colab\"/></a>"
      ]
    },
    {
      "cell_type": "code",
      "metadata": {
        "id": "sCYy-FA4-aEw",
        "colab_type": "code",
        "colab": {}
      },
      "source": [
        ""
      ],
      "execution_count": null,
      "outputs": []
    }
  ]
}