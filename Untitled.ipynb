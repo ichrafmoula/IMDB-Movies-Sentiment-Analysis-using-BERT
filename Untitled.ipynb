{
  "nbformat": 4,
  "nbformat_minor": 0,
  "metadata": {
    "colab": {
      "name": "Untitled",
      "provenance": [],
      "collapsed_sections": []
    },
    "kernelspec": {
      "name": "python3",
      "display_name": "Python 3"
    },
    "accelerator": "GPU"
  },
  "cells": [
    {
      "cell_type": "code",
      "metadata": {
        "id": "sCYy-FA4-aEw",
        "colab_type": "code",
        "colab": {}
      },
      "source": [
        "# install ktrain\n",
        "!pip3 install ktrain"
      ],
      "execution_count": null,
      "outputs": []
    },
    {
      "cell_type": "code",
      "metadata": {
        "id": "BSlftqaWjWnh",
        "colab_type": "code",
        "colab": {}
      },
      "source": [
        "# import numpy\n",
        "import numpy as np \n",
        "# import pandas\n",
        "import pandas as pd\n",
        "# import tensorflow\n",
        "import tensorflow as tf\n",
        "# import ktrain\n",
        "import ktrain\n",
        "from ktrain import text"
      ],
      "execution_count": null,
      "outputs": []
    },
    {
      "cell_type": "markdown",
      "metadata": {
        "id": "zmtAxSONI19t",
        "colab_type": "text"
      },
      "source": [
        "**STEP 0: Download IMDb movie review dataset** "
      ]
    },
    {
      "cell_type": "code",
      "metadata": {
        "id": "kotDBqIhFLwM",
        "colab_type": "code",
        "colab": {}
      },
      "source": [
        "dataset = tf.keras.utils.get_file(\n",
        "    fname=\"aclImdb.tar.gz\", \n",
        "    origin=\"http://ai.stanford.edu/~amaas/data/sentiment/aclImdb_v1.tar.gz\", \n",
        "    extract=True,\n",
        ")"
      ],
      "execution_count": 26,
      "outputs": []
    },
    {
      "cell_type": "code",
      "metadata": {
        "id": "oXjyFtbTFU7x",
        "colab_type": "code",
        "colab": {
          "base_uri": "https://localhost:8080/",
          "height": 34
        },
        "outputId": "01f57d7b-8b7b-4466-edff-40cc928d781e"
      },
      "source": [
        "# set path to dataset\n",
        "import os.path\n",
        "#dataset = '/root/.keras/datasets/aclImdb'\n",
        "IMDB_DATADIR = os.path.join(os.path.dirname(dataset), 'aclImdb')\n",
        "print(IMDB_DATADIR)"
      ],
      "execution_count": 19,
      "outputs": [
        {
          "output_type": "stream",
          "text": [
            "/root/.keras/datasets/aclImdb\n"
          ],
          "name": "stdout"
        }
      ]
    },
    {
      "cell_type": "markdown",
      "metadata": {
        "id": "ZQ6CyGv9JTio",
        "colab_type": "text"
      },
      "source": [
        "**STEP 1: Load and Preprocess the Dataset**"
      ]
    },
    {
      "cell_type": "code",
      "metadata": {
        "id": "yMjMKYVkFbIX",
        "colab_type": "code",
        "colab": {
          "base_uri": "https://localhost:8080/",
          "height": 156
        },
        "outputId": "79a364f7-7960-4506-a9ea-89f14e232afc"
      },
      "source": [
        "(x_train, y_train), (x_test, y_test), preproc = text.texts_from_folder(IMDB_DATADIR, \n",
        "                                                                       maxlen=500, \n",
        "                                                                       preprocess_mode='bert',\n",
        "                                                                       train_test_names=['train', \n",
        "                                                                                         'test'],\n",
        "                                                                       classes=['pos', 'neg'])"
      ],
      "execution_count": 20,
      "outputs": [
        {
          "output_type": "stream",
          "text": [
            "detected encoding: utf-8\n",
            "preprocessing train...\n",
            "language: en\n"
          ],
          "name": "stdout"
        },
        {
          "output_type": "display_data",
          "data": {
            "text/html": [
              "done."
            ],
            "text/plain": [
              "<IPython.core.display.HTML object>"
            ]
          },
          "metadata": {
            "tags": []
          }
        },
        {
          "output_type": "stream",
          "text": [
            "Is Multi-Label? False\n",
            "preprocessing test...\n",
            "language: en\n"
          ],
          "name": "stdout"
        },
        {
          "output_type": "display_data",
          "data": {
            "text/html": [
              "done."
            ],
            "text/plain": [
              "<IPython.core.display.HTML object>"
            ]
          },
          "metadata": {
            "tags": []
          }
        }
      ]
    },
    {
      "cell_type": "code",
      "metadata": {
        "id": "cZXTxpp-1rNl",
        "colab_type": "code",
        "colab": {
          "base_uri": "https://localhost:8080/",
          "height": 34
        },
        "outputId": "760d2d13-07b7-4b25-9dbf-69dc276f6205"
      },
      "source": [
        "x_train[0].shape"
      ],
      "execution_count": 21,
      "outputs": [
        {
          "output_type": "execute_result",
          "data": {
            "text/plain": [
              "(25000, 500)"
            ]
          },
          "metadata": {
            "tags": []
          },
          "execution_count": 21
        }
      ]
    },
    {
      "cell_type": "markdown",
      "metadata": {
        "id": "FLuIbeV2K7sX",
        "colab_type": "text"
      },
      "source": [
        "**STEP 2: Load a pretrained BERT model and wrap it in a ktrain.Learner object**"
      ]
    },
    {
      "cell_type": "code",
      "metadata": {
        "id": "LvYyTKz5Ghc4",
        "colab_type": "code",
        "colab": {
          "base_uri": "https://localhost:8080/",
          "height": 69
        },
        "outputId": "3fd7a01c-82a8-49bf-bf31-49a13bd6f27a"
      },
      "source": [
        "model = text.text_classifier(name ='bert' ,\n",
        "                             train_data= (x_train , y_train),\n",
        "                             preproc =preproc)"
      ],
      "execution_count": 27,
      "outputs": [
        {
          "output_type": "stream",
          "text": [
            "Is Multi-Label? False\n",
            "maxlen is 500\n",
            "done.\n"
          ],
          "name": "stdout"
        }
      ]
    },
    {
      "cell_type": "code",
      "metadata": {
        "id": "ydJ3TW7kM1Vk",
        "colab_type": "code",
        "colab": {}
      },
      "source": [
        "# Get lerning rate \n",
        "learner = ktrain.get_learner(model = model,\n",
        "                             train_data=(x_train, y_train), \n",
        "                             val_data=(x_test, y_test), \n",
        "                             batch_size=6)"
      ],
      "execution_count": 28,
      "outputs": []
    },
    {
      "cell_type": "markdown",
      "metadata": {
        "id": "7cC7P4EZNpCm",
        "colab_type": "text"
      },
      "source": [
        "**STEP 3: Train and Fine-Tune the Model on the IMDb dataset**\n"
      ]
    },
    {
      "cell_type": "code",
      "metadata": {
        "id": "ujybetR5NsLV",
        "colab_type": "code",
        "colab": {}
      },
      "source": [
        "# optimal learning rate \n",
        "# Note this take days to run \n",
        "#learner.lr_find()\n",
        "#learner.lr_plot()"
      ],
      "execution_count": 30,
      "outputs": []
    },
    {
      "cell_type": "code",
      "metadata": {
        "id": "IqHp0wplOL4O",
        "colab_type": "code",
        "colab": {
          "base_uri": "https://localhost:8080/",
          "height": 141
        },
        "outputId": "18d3c711-140c-4a2d-d3e9-1c2c689bd752"
      },
      "source": [
        "#optimal learning rate for this model is 2e-5\n",
        "learner.fit_onecycle(lr =2e-5,epochs= 1)"
      ],
      "execution_count": 31,
      "outputs": [
        {
          "output_type": "stream",
          "text": [
            "\n",
            "\n",
            "begin training using onecycle policy with max lr of 2e-05...\n",
            "Train on 25000 samples, validate on 25000 samples\n",
            "25000/25000 [==============================] - 3458s 138ms/sample - loss: 0.2526 - accuracy: 0.8937 - val_loss: 0.1639 - val_accuracy: 0.9377\n"
          ],
          "name": "stdout"
        },
        {
          "output_type": "execute_result",
          "data": {
            "text/plain": [
              "<tensorflow.python.keras.callbacks.History at 0x7f73a0255e10>"
            ]
          },
          "metadata": {
            "tags": []
          },
          "execution_count": 31
        }
      ]
    },
    {
      "cell_type": "code",
      "metadata": {
        "id": "5W82wj-gPN_T",
        "colab_type": "code",
        "colab": {
          "base_uri": "https://localhost:8080/",
          "height": 34
        },
        "outputId": "d0009505-7790-4bef-9a59-027610a50ccd"
      },
      "source": [
        "learner"
      ],
      "execution_count": 32,
      "outputs": [
        {
          "output_type": "execute_result",
          "data": {
            "text/plain": [
              "<ktrain.text.learner.BERTTextClassLearner at 0x7f73b53a5e80>"
            ]
          },
          "metadata": {
            "tags": []
          },
          "execution_count": 32
        }
      ]
    },
    {
      "cell_type": "markdown",
      "metadata": {
        "id": "mfPOni-qPrcb",
        "colab_type": "text"
      },
      "source": [
        "**STEP 4: Prediction**\n"
      ]
    },
    {
      "cell_type": "code",
      "metadata": {
        "id": "jyWyVSdEPV7n",
        "colab_type": "code",
        "colab": {}
      },
      "source": [
        "predictor = ktrain.get_predictor(learner.model ,preproc)"
      ],
      "execution_count": 33,
      "outputs": []
    },
    {
      "cell_type": "code",
      "metadata": {
        "id": "KJkD9txIRdOB",
        "colab_type": "code",
        "colab": {}
      },
      "source": [
        "data = ['this movie was horrible . the plote was really boring . Acting was okay  though' , \n",
        "        'the film really sucked. i want my money back ',\n",
        "        'what a beautifull movie. great plot ,great acting. will see it again',\n",
        "        'the film really sucked . there is no plot and actingwas bad .']"
      ],
      "execution_count": 34,
      "outputs": []
    },
    {
      "cell_type": "code",
      "metadata": {
        "id": "F6KxJSRlSODo",
        "colab_type": "code",
        "colab": {
          "base_uri": "https://localhost:8080/",
          "height": 34
        },
        "outputId": "3136aaa0-b876-4004-f279-b3f3dd29efee"
      },
      "source": [
        "predictor.predict(data)"
      ],
      "execution_count": 35,
      "outputs": [
        {
          "output_type": "display_data",
          "data": {
            "text/html": [
              ""
            ],
            "text/plain": [
              "<IPython.core.display.HTML object>"
            ]
          },
          "metadata": {
            "tags": []
          }
        },
        {
          "output_type": "execute_result",
          "data": {
            "text/plain": [
              "['neg', 'neg', 'pos', 'neg']"
            ]
          },
          "metadata": {
            "tags": []
          },
          "execution_count": 35
        }
      ]
    },
    {
      "cell_type": "markdown",
      "metadata": {
        "id": "UmujeYpETkm3",
        "colab_type": "text"
      },
      "source": [
        "**STEP 5: Save model**"
      ]
    },
    {
      "cell_type": "code",
      "metadata": {
        "id": "eLT9UZ1LTwJW",
        "colab_type": "code",
        "colab": {}
      },
      "source": [
        "predictor.save('/content/bert')"
      ],
      "execution_count": 36,
      "outputs": []
    }
  ]
}